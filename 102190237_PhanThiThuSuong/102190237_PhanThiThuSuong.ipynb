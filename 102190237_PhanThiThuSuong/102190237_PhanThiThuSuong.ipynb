{
 "cells": [
  {
   "cell_type": "markdown",
   "metadata": {},
   "source": [
    "\n",
    "- Link dataset: https://www.kaggle.com/datasets/arashnic/hr-analytics-job-change-of-data-scientists\n",
    "- Dự đoán một ứng cử viên sẽ làm việc cho công ty hay không dựa vào các thuộc tính giới tính, kinh nghiệm, học vấn\n",
    "\n"
   ]
  },
  {
   "cell_type": "code",
   "execution_count": 12,
   "metadata": {},
   "outputs": [],
   "source": [
    "import numpy as np\n",
    "import pandas as pd\n",
    "import matplotlib.pyplot as plt\n",
    "import seaborn as sb\n",
    "from sklearn.model_selection import train_test_split\n",
    "from sklearn.model_selection import cross_val_score\n",
    "from sklearn.preprocessing import RobustScaler\n",
    "from sklearn.linear_model import LogisticRegression\n",
    "from sklearn.metrics import accuracy_score\n",
    "from sklearn.model_selection import cross_val_score\n",
    "from sklearn import svm"
   ]
  },
  {
   "cell_type": "code",
   "execution_count": 13,
   "metadata": {},
   "outputs": [
    {
     "data": {
      "text/html": [
       "<div>\n",
       "<style scoped>\n",
       "    .dataframe tbody tr th:only-of-type {\n",
       "        vertical-align: middle;\n",
       "    }\n",
       "\n",
       "    .dataframe tbody tr th {\n",
       "        vertical-align: top;\n",
       "    }\n",
       "\n",
       "    .dataframe thead th {\n",
       "        text-align: right;\n",
       "    }\n",
       "</style>\n",
       "<table border=\"1\" class=\"dataframe\">\n",
       "  <thead>\n",
       "    <tr style=\"text-align: right;\">\n",
       "      <th></th>\n",
       "      <th>gender</th>\n",
       "      <th>education_level</th>\n",
       "      <th>experience</th>\n",
       "      <th>target</th>\n",
       "    </tr>\n",
       "  </thead>\n",
       "  <tbody>\n",
       "    <tr>\n",
       "      <th>0</th>\n",
       "      <td>Male</td>\n",
       "      <td>Graduate</td>\n",
       "      <td>&gt;20</td>\n",
       "      <td>1.0</td>\n",
       "    </tr>\n",
       "    <tr>\n",
       "      <th>1</th>\n",
       "      <td>Male</td>\n",
       "      <td>Graduate</td>\n",
       "      <td>15</td>\n",
       "      <td>0.0</td>\n",
       "    </tr>\n",
       "    <tr>\n",
       "      <th>2</th>\n",
       "      <td>NaN</td>\n",
       "      <td>Graduate</td>\n",
       "      <td>5</td>\n",
       "      <td>0.0</td>\n",
       "    </tr>\n",
       "    <tr>\n",
       "      <th>3</th>\n",
       "      <td>NaN</td>\n",
       "      <td>Graduate</td>\n",
       "      <td>&lt;1</td>\n",
       "      <td>1.0</td>\n",
       "    </tr>\n",
       "    <tr>\n",
       "      <th>4</th>\n",
       "      <td>Male</td>\n",
       "      <td>Masters</td>\n",
       "      <td>&gt;20</td>\n",
       "      <td>0.0</td>\n",
       "    </tr>\n",
       "  </tbody>\n",
       "</table>\n",
       "</div>"
      ],
      "text/plain": [
       "  gender education_level experience  target\n",
       "0   Male        Graduate        >20     1.0\n",
       "1   Male        Graduate         15     0.0\n",
       "2    NaN        Graduate          5     0.0\n",
       "3    NaN        Graduate         <1     1.0\n",
       "4   Male         Masters        >20     0.0"
      ]
     },
     "execution_count": 13,
     "metadata": {},
     "output_type": "execute_result"
    }
   ],
   "source": [
    "df=pd.read_csv('aug_train.csv', usecols=['gender','education_level','experience','target'])\n",
    "df.head()\n"
   ]
  },
  {
   "cell_type": "markdown",
   "metadata": {},
   "source": [
    "# Xử lý dữ liệu trống"
   ]
  },
  {
   "cell_type": "code",
   "execution_count": 14,
   "metadata": {},
   "outputs": [
    {
     "data": {
      "text/plain": [
       "gender             4508\n",
       "education_level     460\n",
       "experience           65\n",
       "target                0\n",
       "dtype: int64"
      ]
     },
     "execution_count": 14,
     "metadata": {},
     "output_type": "execute_result"
    }
   ],
   "source": [
    "df.isnull().sum()\n"
   ]
  },
  {
   "cell_type": "code",
   "execution_count": 15,
   "metadata": {},
   "outputs": [
    {
     "data": {
      "text/html": [
       "<div>\n",
       "<style scoped>\n",
       "    .dataframe tbody tr th:only-of-type {\n",
       "        vertical-align: middle;\n",
       "    }\n",
       "\n",
       "    .dataframe tbody tr th {\n",
       "        vertical-align: top;\n",
       "    }\n",
       "\n",
       "    .dataframe thead th {\n",
       "        text-align: right;\n",
       "    }\n",
       "</style>\n",
       "<table border=\"1\" class=\"dataframe\">\n",
       "  <thead>\n",
       "    <tr style=\"text-align: right;\">\n",
       "      <th></th>\n",
       "      <th>gender</th>\n",
       "      <th>education_level</th>\n",
       "      <th>experience</th>\n",
       "      <th>target</th>\n",
       "      <th>gender_random</th>\n",
       "      <th>education_level_random</th>\n",
       "      <th>experience_random</th>\n",
       "    </tr>\n",
       "  </thead>\n",
       "  <tbody>\n",
       "    <tr>\n",
       "      <th>0</th>\n",
       "      <td>Male</td>\n",
       "      <td>Graduate</td>\n",
       "      <td>&gt;20</td>\n",
       "      <td>1.0</td>\n",
       "      <td>Male</td>\n",
       "      <td>Graduate</td>\n",
       "      <td>&gt;20</td>\n",
       "    </tr>\n",
       "    <tr>\n",
       "      <th>1</th>\n",
       "      <td>Male</td>\n",
       "      <td>Graduate</td>\n",
       "      <td>15</td>\n",
       "      <td>0.0</td>\n",
       "      <td>Male</td>\n",
       "      <td>Graduate</td>\n",
       "      <td>15</td>\n",
       "    </tr>\n",
       "    <tr>\n",
       "      <th>2</th>\n",
       "      <td>NaN</td>\n",
       "      <td>Graduate</td>\n",
       "      <td>5</td>\n",
       "      <td>0.0</td>\n",
       "      <td>Male</td>\n",
       "      <td>Graduate</td>\n",
       "      <td>5</td>\n",
       "    </tr>\n",
       "    <tr>\n",
       "      <th>3</th>\n",
       "      <td>NaN</td>\n",
       "      <td>Graduate</td>\n",
       "      <td>&lt;1</td>\n",
       "      <td>1.0</td>\n",
       "      <td>Male</td>\n",
       "      <td>Graduate</td>\n",
       "      <td>&lt;1</td>\n",
       "    </tr>\n",
       "    <tr>\n",
       "      <th>4</th>\n",
       "      <td>Male</td>\n",
       "      <td>Masters</td>\n",
       "      <td>&gt;20</td>\n",
       "      <td>0.0</td>\n",
       "      <td>Male</td>\n",
       "      <td>Masters</td>\n",
       "      <td>&gt;20</td>\n",
       "    </tr>\n",
       "  </tbody>\n",
       "</table>\n",
       "</div>"
      ],
      "text/plain": [
       "  gender education_level experience  target gender_random  \\\n",
       "0   Male        Graduate        >20     1.0          Male   \n",
       "1   Male        Graduate         15     0.0          Male   \n",
       "2    NaN        Graduate          5     0.0          Male   \n",
       "3    NaN        Graduate         <1     1.0          Male   \n",
       "4   Male         Masters        >20     0.0          Male   \n",
       "\n",
       "  education_level_random experience_random  \n",
       "0               Graduate               >20  \n",
       "1               Graduate                15  \n",
       "2               Graduate                 5  \n",
       "3               Graduate                <1  \n",
       "4                Masters               >20  "
      ]
     },
     "execution_count": 15,
     "metadata": {},
     "output_type": "execute_result"
    }
   ],
   "source": [
    "#     \n",
    "# Gender\n",
    "gender_random = df['gender'].dropna().sample(n=df['gender'].isnull().sum(),random_state=0)\n",
    "gender_random.index = df[df['gender'].isnull()].index\n",
    "df['gender_random']=df['gender']\n",
    "df.loc[df['gender'].isnull(), 'gender_random']=gender_random\n",
    "\n",
    "#Education level\n",
    "education_level_random = df['education_level'].dropna().sample(n=df['education_level'].isnull().sum(),random_state=0)\n",
    "education_level_random.index = df[df['education_level'].isnull()].index\n",
    "df['education_level_random']=df['education_level']\n",
    "df.loc[df['education_level'].isnull(), 'education_level_random']=education_level_random\n",
    "\n",
    "#experience\n",
    "experience_random = df['experience'].dropna().sample(n=df['experience'].isnull().sum(),random_state=0)\n",
    "experience_random.index = df[df['experience'].isnull()].index\n",
    "df['experience_random']=df['experience']\n",
    "df.loc[df['experience'].isnull(), 'experience_random']=experience_random\n",
    "\n",
    "df.head()\n",
    "\n",
    "\n"
   ]
  },
  {
   "cell_type": "markdown",
   "metadata": {},
   "source": [
    "# Mã hóa dữ liệu\n",
    "Thay thế các giá trị:\n",
    "# Gender \n",
    "- Male: 1\n",
    "- Female: 0\n",
    "- Other : 3\n",
    "# Education level\n",
    "\n",
    "- Primary School: 0\n",
    "- High School: 1\n",
    "- Graduate: 2\n",
    "- Masters : 3\n",
    "- Phd: 4\n",
    "# Experience \n",
    "-+ >20 -> 21\n",
    "- <1 : 0\n",
    "\n",
    "\n"
   ]
  },
  {
   "cell_type": "code",
   "execution_count": 16,
   "metadata": {},
   "outputs": [
    {
     "data": {
      "text/plain": [
       "<function matplotlib.pyplot.show(close=None, block=None)>"
      ]
     },
     "execution_count": 16,
     "metadata": {},
     "output_type": "execute_result"
    },
    {
     "data": {
      "image/png": "[encoded data removed]",
      "text/plain": [
       "<Figure size 1440x504 with 3 Axes>"
      ]
     },
     "metadata": {
      "needs_background": "light"
     },
     "output_type": "display_data"
    }
   ],
   "source": [
    "plt.figure(figsize=(20,7))\n",
    "plt.subplot(1,3,1)\n",
    "plt.title(\"Education Level\")\n",
    "plt.xlabel(\"Education Level\")\n",
    "plt.ylabel(\"Số lượng\")\n",
    "plt.hist( df[['education_level_random']], bins=20)\n",
    "\n",
    "plt.subplot(1,3,2)\n",
    "plt.title(\"Experience\")\n",
    "plt.xlabel(\"Experience\")\n",
    "plt.ylabel(\"Số lượng\")\n",
    "plt.hist( df[['experience_random']], bins=20)\n",
    "\n",
    "plt.subplot(1,3,3)\n",
    "plt.title(\"Gender\")\n",
    "plt.xlabel(\"Gender\")\n",
    "plt.ylabel(\"Số lượng\")\n",
    "plt.hist( df[['gender_random']], bins=20)\n",
    "plt.show"
   ]
  },
  {
   "cell_type": "code",
   "execution_count": 36,
   "metadata": {},
   "outputs": [],
   "source": [
    "df['gender_random'] = df['gender_random'].replace({'Male' : 1 , 'Female' : 0, 'Other' : 3})\n",
    "df['education_level_random'] = df['education_level_random'].replace({'Primary School' : 0 , 'High School' : 1 , 'Graduate' : 2, 'Masters' : 3, 'Phd' : 4 })\n",
    "df['experience_random'] = df['experience_random'].replace({'>20' : 21 , '<1' : 0 })\n",
    "# X1 = pd.read_csv('C:/Users/acer/Downloads/input.csv')\n",
    "#    print(X1.head())\n",
    "#    X = X1[['Labeling']]\n",
    "#    print(X.head())"
   ]
  },
  {
   "cell_type": "code",
   "execution_count": 18,
   "metadata": {},
   "outputs": [
    {
     "data": {
      "text/plain": [
       "<AxesSubplot:title={'center':'Education Level'}>"
      ]
     },
     "execution_count": 18,
     "metadata": {},
     "output_type": "execute_result"
    },
    {
     "data": {
      "image/png": "[encoded data removed]",
      "text/plain": [
       "<Figure size 1080x504 with 2 Axes>"
      ]
     },
     "metadata": {
      "needs_background": "light"
     },
     "output_type": "display_data"
    }
   ],
   "source": [
    "plt.figure(figsize=(15,7))\n",
    "plt.subplot(1,2,1)\n",
    "plt.title(\"Experience\")\n",
    "sb.boxplot(data =df['experience_random'])\n",
    "plt.subplot(1,2,2)\n",
    "plt.title(\"Education Level\")\n",
    "sb.boxplot(data =df['education_level_random'])"
   ]
  },
  {
   "cell_type": "markdown",
   "metadata": {},
   "source": [
    "### Các đặc trưng có khá ít ngoại lệ"
   ]
  },
  {
   "cell_type": "markdown",
   "metadata": {},
   "source": [
    "# Chuẩn hóa và Xử lý ngoại lệ\n",
    "- Chuẩn hóa bằng Roust Scaler\n",
    "- Xử lý ngoại lệ "
   ]
  },
  {
   "cell_type": "code",
   "execution_count": 19,
   "metadata": {},
   "outputs": [],
   "source": [
    "# Phân bố lệch\n",
    "def skewed_distribution(df,feature):\n",
    "    IQR=np.quantile(df[feature],0.75)-np.quantile(df[feature],0.25)\n",
    "    lower_bridge_fare=df[feature].quantile(0.25)-(IQR*3)\n",
    "    upper_bridge_fare=df[feature].quantile(0.75)+(IQR*3)\n",
    "\n",
    "    skewed_distribution_data=df.copy()\n",
    "    skewed_distribution_data.loc[skewed_distribution_data[feature]>=round(upper_bridge_fare,2),feature]=round(upper_bridge_fare,2)\n",
    "    skewed_distribution_data.loc[skewed_distribution_data[feature]<=round(lower_bridge_fare,2),feature]=round(lower_bridge_fare,2)\n",
    "    \n",
    "    return skewed_distribution_data"
   ]
  },
  {
   "cell_type": "code",
   "execution_count": 20,
   "metadata": {},
   "outputs": [],
   "source": [
    "# Chuẩn hóa Robust Scaler\n",
    "data = df[['gender_random','education_level_random','experience_random','target']]\n",
    "scaler=RobustScaler()\n",
    "df_robust_scaler=pd.DataFrame(scaler.fit_transform(data),columns=data.columns)\n",
    "\n",
    "# xử lý ngoại lệ \n",
    "# Biến gender\n",
    "data_gender = skewed_distribution(df_robust_scaler,'gender_random')\n",
    "\n",
    "# Biến Education level\n",
    "data_education = skewed_distribution(data_gender,'education_level_random')\n",
    "\n",
    "# Biến experience \n",
    "data_experience = skewed_distribution(data_education,'experience_random')\n",
    "# data.head()\n"
   ]
  },
  {
   "cell_type": "markdown",
   "metadata": {},
   "source": [
    "# Hàm đánh giá độ chính xác"
   ]
  },
  {
   "cell_type": "code",
   "execution_count": 21,
   "metadata": {},
   "outputs": [],
   "source": [
    "def Logistic_Regression(df,feature1,feature2,feature3):\n",
    "    data = df.copy()\n",
    "    classifier= LogisticRegression(solver='lbfgs', random_state=1)\n",
    "    X_train,X_test,y_train,y_test=train_test_split(data[[feature1,feature2,feature3]].fillna(0),df['target'],test_size=0.3, random_state=0)\n",
    "    classifier.fit(X_train,y_train)\n",
    "    y_pred=classifier.predict(X_test)\n",
    "    return accuracy_score(y_test,y_pred)*100\n",
    "\n",
    "  "
   ]
  },
  {
   "cell_type": "code",
   "execution_count": 22,
   "metadata": {},
   "outputs": [
    {
     "name": "stdout",
     "output_type": "stream",
     "text": [
      "Độ chính xác sau khi sử dụng hội quy Logistic:     74.75643702157272\n"
     ]
    }
   ],
   "source": [
    "# Độ chính xác sau khi sử dụng phương pháp hội quy Logistic và train_test_split\n",
    "acc_logit = Logistic_Regression(data_experience ,'gender_random','education_level_random','experience_random')\n",
    "print('Độ chính xác sau khi sử dụng hội quy Logistic:    ',acc_logit)\n"
   ]
  },
  {
   "cell_type": "code",
   "execution_count": 23,
   "metadata": {},
   "outputs": [
    {
     "name": "stdout",
     "output_type": "stream",
     "text": [
      "Độ chính xác sau khi sử dụng cross_val_score:     0.7506524757649522\n"
     ]
    }
   ],
   "source": [
    "# Độ chính xác sau khi sử dụng cross_val_score\n",
    "# hội quy Logistic\n",
    "logit = LogisticRegression(solver='lbfgs', random_state=1)\n",
    "accuracy  = cross_val_score(logit,df[['gender_random','education_level_random','experience_random']].fillna(0),df['target'], scoring = 'accuracy', cv = 5).mean()\n",
    "print('Độ chính xác sau khi sử dụng cross_val_score:    ',accuracy)\n",
    "\n"
   ]
  },
  {
   "cell_type": "markdown",
   "metadata": {},
   "source": [
    "### Độ chính xác chỉ tăng khoảng 1% "
   ]
  },
  {
   "cell_type": "markdown",
   "metadata": {},
   "source": [
    "# Lựa chọn tham số\n"
   ]
  },
  {
   "cell_type": "code",
   "execution_count": 24,
   "metadata": {},
   "outputs": [
    {
     "name": "stdout",
     "output_type": "stream",
     "text": [
      " Results from Grid Search \n",
      " The best estimator :  SVC(C=1, kernel='linear')\n",
      " The best score : 0.751006711409396\n",
      " The best parameters across:  {'C': 1, 'kernel': 'linear'}\n"
     ]
    }
   ],
   "source": [
    "from sklearn.model_selection import GridSearchCV\n",
    "\n",
    "parameters = {'kernel':['linear', 'rbf'], 'C':[1, 10]}\n",
    "svc = svm.SVC()\n",
    "X_train, X_test, y_train, y_test = train_test_split(df[['gender_random','education_level_random','experience_random']],df['target'], test_size=0.30)\n",
    "grid_GBC = GridSearchCV(estimator=svc, param_grid = parameters, cv = 2, n_jobs=-1)\n",
    "grid_GBC.fit(X_train, y_train)\n",
    "print(\" Results from Grid Search \" )\n",
    "print(\" The best estimator : \",grid_GBC.best_estimator_)\n",
    "print(\" The best score :\",grid_GBC.best_score_)\n",
    "print(\" The best parameters across: \",grid_GBC.best_params_)"
   ]
  }
 ],
 "metadata": {
  "interpreter": {
   "hash": "229cdfb8eedfa4964725b7eb0da8d7a63b25d97a6ab808f09bd6b506844c0629"
  },
  "kernelspec": {
   "display_name": "Python 3.10.0 64-bit",
   "language": "python",
   "name": "python3"
  },
  "language_info": {
   "codemirror_mode": {
    "name": "ipython",
    "version": 3
   },
   "file_extension": ".py",
   "mimetype": "text/x-python",
   "name": "python",
   "nbconvert_exporter": "python",
   "pygments_lexer": "ipython3",
   "version": "3.10.0"
  },
  "orig_nbformat": 4
 },
 "nbformat": 4,
 "nbformat_minor": 2
}
