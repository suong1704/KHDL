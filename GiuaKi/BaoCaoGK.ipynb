{
 "cells": [
  {
   "cell_type": "markdown",
   "metadata": {},
   "source": [
    "Link to data source: https://www.kaggle.com/datasets/shivarajmishra/heart-data"
   ]
  },
  {
   "cell_type": "markdown",
   "metadata": {},
   "source": [
    "Heart Disease Data: Dataset dùng để chuẩn đoán một người có mắc bệnh tim hay không dựa vào các thông số đăc trưng như độ tuổi, giới tính, nồng độ cholesterol, ..."
   ]
  },
  {
   "cell_type": "code",
   "execution_count": 1,
   "metadata": {},
   "outputs": [],
   "source": [
    "import numpy as np\n",
    "import pandas as pd\n",
    "import matplotlib.pyplot as plt\n",
    "import seaborn as sns\n"
   ]
  },
  {
   "cell_type": "code",
   "execution_count": 2,
   "metadata": {},
   "outputs": [
    {
     "name": "stdout",
     "output_type": "stream",
     "text": [
      "   age  sex  cp  trestbps  chol  fbs  restecg  thalach  exang  oldpeak  slope  \\\n",
      "0   70    1   4       130   322    0        2      109      0      2.4      2   \n",
      "1   67    0   3       115   564    0        2      160      0      1.6      2   \n",
      "2   57    1   2       124   261    0        0      141      0      0.3      1   \n",
      "3   64    1   4       128   263    0        0      105      1      0.2      2   \n",
      "4   74    0   2       120   269    0        2      121      1      0.2      1   \n",
      "\n",
      "   ca  thal  target  \n",
      "0   3     3       2  \n",
      "1   0     7       1  \n",
      "2   0     7       2  \n",
      "3   1     7       1  \n",
      "4   1     3       1  \n",
      "     age\n",
      "0     70\n",
      "1     67\n",
      "2     57\n",
      "3     64\n",
      "4     74\n",
      "..   ...\n",
      "265   52\n",
      "266   44\n",
      "267   56\n",
      "268   57\n",
      "269   67\n",
      "\n",
      "[270 rows x 1 columns]\n"
     ]
    }
   ],
   "source": [
    "data = pd.read_csv('./data.csv')\n",
    "# print(data)\n",
    "data1=data[['age']]\n",
    "print(data.head())\n",
    "print(data1)"
   ]
  },
  {
   "cell_type": "code",
   "execution_count": 3,
   "metadata": {},
   "outputs": [],
   "source": [
    "def bootstraps(data1,n_bootstraps=600,x=1):\n",
    "    new_data=data1\n",
    "    size_age =n_bootstraps - data1.shape[0]\n",
    "\n",
    "    age_n   = np.random.choice(data['age'],replace=True,size=size_age)\n",
    "\n",
    "    for b in range(size_age):\n",
    "        a = age_n[b]\n",
    "        new_data_row = {'age':[a]}\n",
    "        new_data_row1 = pd.DataFrame(new_data_row)\n",
    "        new_data.append(new_data_row1,ignore_index=True)\n",
    "\n",
    "        #ve do thi\n",
    "\n",
    "    plt.title(\"Phân bố lấy mẫu\")\n",
    "    plt.xlabel(\"Độ tuổi\")\n",
    "    plt.ylabel(\"Số lượng\")\n",
    "    plt.hist(new_data, bins=10)\n",
    "    #trung vi\n",
    "    median_age = np.median(np.array(new_data[\"age\"]))\n",
    "    plt.axvline(median_age, color='red',label=\"Age Medium\")\n",
    "    plt.show()\n",
    "        \n",
    "        \n",
    "    return(new_data)\n",
    "\n"
   ]
  },
  {
   "cell_type": "code",
   "execution_count": 4,
   "metadata": {},
   "outputs": [
    {
     "name": "stderr",
     "output_type": "stream",
     "text": [
      "C:\\Users\\acer\\AppData\\Local\\Temp\\ipykernel_18232\\3784864611.py:11: FutureWarning: The frame.append method is deprecated and will be removed from pandas in a future version. Use pandas.concat instead.\n",
      "  new_data.append(new_data_row1,ignore_index=True)\n"
     ]
    },
    {
     "data": {
      "image/png": "[encoded data removed]",
      "text/plain": [
       "<Figure size 432x288 with 1 Axes>"
      ]
     },
     "metadata": {
      "needs_background": "light"
     },
     "output_type": "display_data"
    },
    {
     "name": "stdout",
     "output_type": "stream",
     "text": [
      "IQR:  13.0\n"
     ]
    }
   ],
   "source": [
    "data3 = bootstraps(data1,n_bootstraps=600,x=1)\n",
    "def IQR_calculator(data3):\n",
    "    IQR = []\n",
    "    # for i in range data3:\n",
    "\n",
    "    q3,q1 = np.percentile(data3, [75 ,25])\n",
    "    IQR = np.subtract(q3,q1)\n",
    "    return np.subtract(q3,q1)\n",
    "result = IQR_calculator(data3)\n",
    "print(\"IQR: \",result)\n"
   ]
  },
  {
   "cell_type": "code",
   "execution_count": 5,
   "metadata": {},
   "outputs": [
    {
     "data": {
      "text/plain": [
       "<function matplotlib.pyplot.show(close=None, block=None)>"
      ]
     },
     "execution_count": 5,
     "metadata": {},
     "output_type": "execute_result"
    },
    {
     "data": {
      "image/png": "[encoded data removed]",
      "text/plain": [
       "<Figure size 432x288 with 1 Axes>"
      ]
     },
     "metadata": {
      "needs_background": "light"
     },
     "output_type": "display_data"
    }
   ],
   "source": [
    "#Câu 2: Đặc trưng age và sex\n",
    "\n",
    "# Histogram : Số lượng người mắc bệnh tim theo độ tuổi\n",
    "\n",
    "data_age = data[['age']]\n",
    "plt.title(\"\")\n",
    "plt.xlabel(\"Độ tuổi\")\n",
    "plt.ylabel(\"Số lượng\")\n",
    "plt.hist(data_age, bins=20)\n",
    "plt.show"
   ]
  },
  {
   "cell_type": "code",
   "execution_count": 6,
   "metadata": {},
   "outputs": [
    {
     "data": {
      "text/plain": [
       "<function matplotlib.pyplot.show(close=None, block=None)>"
      ]
     },
     "execution_count": 6,
     "metadata": {},
     "output_type": "execute_result"
    },
    {
     "data": {
      "image/png": "[encoded data removed]",
      "text/plain": [
       "<Figure size 432x288 with 1 Axes>"
      ]
     },
     "metadata": {
      "needs_background": "light"
     },
     "output_type": "display_data"
    }
   ],
   "source": [
    "#Bar Chart : Số lượng người mắc bệnh tim theo giới tính nam và nữ\n",
    "# Sex: sex (1=male; 0=female)\n",
    "\n",
    "data_sex = data[['sex']]\n",
    "count_male = data_sex[data_sex['sex'] == 1].count().sex\n",
    "count_female = data_sex[data_sex['sex'] == 0].count().sex\n",
    "\n",
    "# print(count_male) \n",
    "\n",
    "count = [count_male , count_female]\n",
    "label = [\"Male\" , \"Female\"]\n",
    "\n",
    "plt.xlabel(\"Giới tính\")\n",
    "plt.ylabel(\"Số lượng\")\n",
    "plt.bar(label,count)\n",
    "plt.show"
   ]
  },
  {
   "cell_type": "code",
   "execution_count": 7,
   "metadata": {},
   "outputs": [
    {
     "data": {
      "text/plain": [
       "<function matplotlib.pyplot.show(close=None, block=None)>"
      ]
     },
     "execution_count": 7,
     "metadata": {},
     "output_type": "execute_result"
    },
    {
     "data": {
      "image/png": "[encoded data removed]",
      "text/plain": [
       "<Figure size 432x288 with 2 Axes>"
      ]
     },
     "metadata": {
      "needs_background": "light"
     },
     "output_type": "display_data"
    }
   ],
   "source": [
    "#Histogram Plot: Sự tương quan giữa số lượng người mắc bệnh tim theo giới tính và độ tuổi\n",
    "data5 = data[['sex','age']]\n",
    "Male = data5[data5['sex'] == 1]\n",
    "Female = data5[data5['sex'] == 0]\n",
    "\n",
    "bin = np.arange(0,100,10)\n",
    "plt.subplot(1,2,1)\n",
    "plt.title('Male')\n",
    "plt.hist(Male[['age']],bins=bin)\n",
    "\n",
    "plt.subplot(1,2,2)\n",
    "plt.title('Female')\n",
    "plt.hist(Female[['age']],bins=bin)\n",
    "\n",
    "plt.show\n",
    "\n"
   ]
  },
  {
   "cell_type": "markdown",
   "metadata": {},
   "source": [
    "Tổng kết: \n",
    "-Độ tuổi dễ mắc bệnh tim nhất là từ 40 tuổi\n",
    "-Nam giới dễ mắc bệnh tim hơn nữ giới\n",
    "-Cùng một độ tuổi thì số lượng người mắc bệnh tim ở nam cao hơn ở nữ"
   ]
  }
 ],
 "metadata": {
  "interpreter": {
   "hash": "0dd272924c7cc597c5889018966c2ccb6c9651b4aec44649117dbf66b8c76eee"
  },
  "kernelspec": {
   "display_name": "Python 3.10.0 64-bit",
   "language": "python",
   "name": "python3"
  },
  "language_info": {
   "codemirror_mode": {
    "name": "ipython",
    "version": 3
   },
   "file_extension": ".py",
   "mimetype": "text/x-python",
   "name": "python",
   "nbconvert_exporter": "python",
   "pygments_lexer": "ipython3",
   "version": "3.10.0"
  },
  "orig_nbformat": 4
 },
 "nbformat": 4,
 "nbformat_minor": 2
}
